{
 "cells": [
  {
   "cell_type": "code",
   "execution_count": 1,
   "metadata": {},
   "outputs": [],
   "source": [
    "import numpy as np\n",
    "from sklearn.neural_network import MLPClassifier as mlp\n",
    "from sklearn.metrics import cohen_kappa_score as kappa\n",
    "from sklearn.model_selection import train_test_split"
   ]
  },
  {
   "cell_type": "code",
   "execution_count": 2,
   "metadata": {},
   "outputs": [],
   "source": [
    "def populacao_inicial(tamanho_populacao, tamanho_cromossomo):\n",
    "    return np.random.choice([0, 1], size=(tamanho_populacao,tamanho_cromossomo))"
   ]
  },
  {
   "cell_type": "code",
   "execution_count": 3,
   "metadata": {},
   "outputs": [],
   "source": [
    "def crossover_two_best_n_random(populacao_atual,fitness_populacao,tamanho_cromossomo,n = 5):\n",
    "    \n",
    "    tamanho_populacao = len(populacao_atual)\n",
    "    filhos = np.zeros((tamanho_populacao,tamanho_cromossomo))\n",
    "    cont_filhos = 0\n",
    "    for i in range(tamanho_populacao//2):\n",
    "        \n",
    "        tamanho_populacao_crossover = len(populacao_atual)#esse tamanho muda a cada iteracao\n",
    "        \n",
    "        if tamanho_populacao_crossover >= n: #escolhe os 5 somente se houverem pelo menos 5 na lista \n",
    "            escolhidos = np.random.choice(range(tamanho_populacao_crossover),size = n)#escolhe n pais aleatorios\n",
    "        two_best = np.argsort(fitness_populacao)[-2:] #escolhe os 2 melhores entre os n\n",
    "        pai = populacao_atual[two_best[0]]\n",
    "        mae = populacao_atual[two_best[1]]\n",
    "        \n",
    "        populacao_atual = np.delete(populacao_atual,(two_best), axis=0) #remove os pais da populacao atual\n",
    "        fitness_populacao = np.delete(fitness_populacao,(two_best)) #remove os fitness para ficar igual a lista de pais\n",
    "\n",
    "        point_cross = np.random.choice(range(1,tamanho_cromossomo-1))\n",
    "        filho1 = np.concatenate((pai[:point_cross],mae[point_cross:]))\n",
    "        filho2 = np.concatenate((mae[:point_cross],pai[point_cross:]))\n",
    "        \n",
    "        filhos[cont_filhos,:] = filho1\n",
    "        filhos[cont_filhos+1,:] = filho2\n",
    "        cont_filhos += 2\n",
    "        \n",
    "    return filhos"
   ]
  },
  {
   "cell_type": "code",
   "execution_count": null,
   "metadata": {},
   "outputs": [],
   "source": []
  },
  {
   "cell_type": "code",
   "execution_count": 4,
   "metadata": {},
   "outputs": [],
   "source": [
    "def mutation(filhos, percentage=5):\n",
    "    for id_f,f in enumerate(filhos):\n",
    "        prob = np.random.choice(range(100))\n",
    "        if prob > (100-percentage):\n",
    "            #print('X-men')\n",
    "            position = np.random.choice(range(0,tamanho_cromossomo))\n",
    "            f[position] = int(not(f[position])) #troca 0->1 ou 1->0\n",
    "            filhos[id_f] = f\n",
    "    return filhos"
   ]
  },
  {
   "cell_type": "code",
   "execution_count": 5,
   "metadata": {},
   "outputs": [],
   "source": [
    "def fitness(individuo):\n",
    "    \n",
    "    ## selecionar as features de acordo com o cromossomo: 1-> feature entra\n",
    "    col = np.where(individuo==1)\n",
    "    selected_features_train = features_train[:,col[0]]\n",
    "    selected_features_validation = features_validation[:,col[0]]\n",
    "    \n",
    "    ## classificacao\n",
    "    clf = mlp()\n",
    "    clf.fit(selected_features_train,labels_train)\n",
    "    pred = clf.predict(selected_features_validation)\n",
    "    k = kappa(labels_validation,pred)\n",
    "    \n",
    "    return k"
   ]
  },
  {
   "cell_type": "code",
   "execution_count": null,
   "metadata": {},
   "outputs": [],
   "source": []
  },
  {
   "cell_type": "code",
   "execution_count": null,
   "metadata": {},
   "outputs": [],
   "source": []
  },
  {
   "cell_type": "code",
   "execution_count": 6,
   "metadata": {},
   "outputs": [],
   "source": [
    "def next_generation(populacao_atual,fitness_populacao,filhos,fitness_filhos,tamanho_populacao):\n",
    "    \n",
    "    populacao = np.concatenate((populacao_atual,filhos))\n",
    "    fitness = np.concatenate((fitness_populacao,fitness_filhos))\n",
    "    next_generation = np.argsort(fitness)[-tamanho_populacao:] #escolhe os 'tamanho_populacao' melhores individuos\n",
    "    populacao = populacao[next_generation]\n",
    "    fitness = fitness[next_generation]\n",
    "    \n",
    "    return populacao,fitness"
   ]
  },
  {
   "cell_type": "code",
   "execution_count": 7,
   "metadata": {},
   "outputs": [],
   "source": [
    "def condicao_parada(fitness_populacao):\n",
    "    tamanho_populacao = len(fitness_populacao)\n",
    "    \n",
    "    if (np.sum(fitness_populacao) == tamanho_populacao): #condicao para saber se todos os individuos possuem 100% de acerto\n",
    "        print('Parou com 100% de acerto')\n",
    "        return False\n",
    "    return True"
   ]
  },
  {
   "cell_type": "markdown",
   "metadata": {},
   "source": [
    "## Ler CSV"
   ]
  },
  {
   "cell_type": "code",
   "execution_count": 39,
   "metadata": {},
   "outputs": [],
   "source": [
    "file = '/Users/romuere/Downloads/CT-Scan_CNN_Otimizada.csv'\n",
    "dados = np.loadtxt(file,delimiter=',',skiprows=1)\n",
    "labels = dados[:,-1]\n",
    "dados = dados[:,:-1]\n",
    "# dividir dados: 70% para treino e validacao (onde 80% treino e 20% validacao) e 30% para teste\n",
    "features_evolutivo, features_test, labels_evolutivo, labels_test = train_test_split(dados, labels, test_size=0.30)\n",
    "features_train, features_validation, labels_train, labels_validation = train_test_split(features_evolutivo, labels_evolutivo, test_size=0.20)"
   ]
  },
  {
   "cell_type": "code",
   "execution_count": 40,
   "metadata": {},
   "outputs": [
    {
     "data": {
      "text/plain": [
       "120"
      ]
     },
     "execution_count": 40,
     "metadata": {},
     "output_type": "execute_result"
    }
   ],
   "source": [
    "dados.shape[1]"
   ]
  },
  {
   "cell_type": "markdown",
   "metadata": {},
   "source": [
    "## Parâmetros do sistema evolutivo"
   ]
  },
  {
   "cell_type": "code",
   "execution_count": 41,
   "metadata": {},
   "outputs": [],
   "source": [
    "tamanho_populacao = 10\n",
    "tamanho_cromossomo = dados.shape[1]\n",
    "quantidade_geracoes = 5\n",
    "taxa_mutacao = 5"
   ]
  },
  {
   "cell_type": "markdown",
   "metadata": {},
   "source": [
    "## Montando Evolutivo"
   ]
  },
  {
   "cell_type": "code",
   "execution_count": 42,
   "metadata": {},
   "outputs": [],
   "source": [
    "populacao_atual = populacao_inicial(tamanho_populacao,tamanho_cromossomo)\n",
    "fitness_populacao = [fitness(i) for i in populacao_atual]"
   ]
  },
  {
   "cell_type": "code",
   "execution_count": null,
   "metadata": {},
   "outputs": [],
   "source": []
  },
  {
   "cell_type": "code",
   "execution_count": 46,
   "metadata": {},
   "outputs": [
    {
     "name": "stdout",
     "output_type": "stream",
     "text": [
      "Geracao:  0\n",
      "Geracao:  1\n",
      "Geracao:  2\n",
      "Geracao:  3\n",
      "Geracao:  4\n"
     ]
    }
   ],
   "source": [
    "qg = 0\n",
    "while ((qg != quantidade_geracoes) and (condicao_parada(fitness_populacao))):\n",
    "    filhos = crossover_two_best_n_random(populacao_atual,fitness_populacao,tamanho_cromossomo)\n",
    "    filhos = mutation(filhos)\n",
    "    fitness_filhos = [fitness(i) for i in filhos]\n",
    "    populacao_atual,fitness_populacao = next_generation(populacao_atual,fitness_populacao,filhos,fitness_filhos,tamanho_populacao)\n",
    "    print(\"Geracao: \",qg)\n",
    "    qg += 1"
   ]
  },
  {
   "cell_type": "markdown",
   "metadata": {},
   "source": [
    "## Buscar menor quantidade de Features \n",
    "- Em caso de dois ou mais indivíduos com a mesma fitness"
   ]
  },
  {
   "cell_type": "code",
   "execution_count": 47,
   "metadata": {},
   "outputs": [
    {
     "name": "stdout",
     "output_type": "stream",
     "text": [
      "Number of features:  57.0\n"
     ]
    }
   ],
   "source": [
    "quant_best_individuos = np.sum(fitness_populacao == fitness_populacao.max())\n",
    "ordenado = np.argsort(fitness_populacao)[-quant_best_individuos:] #pega o indice do(s) melhor(es)\n",
    "\n",
    "if quant_best_individuos > 1:\n",
    "    #pegar o individuo com menos atributos\n",
    "    tam_best = tamanho_cromossomo\n",
    "    for i in ordenado:\n",
    "        if np.sum(populacao_atual[i]) <= tam_best:\n",
    "            best = i\n",
    "            tam_best = np.sum(populacao_atual[i])\n",
    "else:\n",
    "    best = ordenado[0]\n",
    "    \n",
    "individuo_final = populacao_atual[best]\n",
    "print('Number of features: ',np.sum(individuo_final))"
   ]
  },
  {
   "cell_type": "code",
   "execution_count": 50,
   "metadata": {},
   "outputs": [
    {
     "data": {
      "text/plain": [
       "array([1., 1., 1., 0., 0., 0., 0., 1., 0., 0., 0., 1., 0., 0., 1., 0., 1.,\n",
       "       1., 0., 0., 0., 1., 0., 1., 0., 0., 0., 1., 0., 0., 0., 0., 0., 1.,\n",
       "       1., 1., 1., 1., 0., 0., 1., 1., 0., 1., 0., 0., 0., 1., 1., 0., 1.,\n",
       "       0., 0., 1., 1., 0., 0., 1., 1., 0., 1., 1., 1., 0., 1., 0., 1., 0.,\n",
       "       0., 0., 1., 1., 0., 1., 0., 0., 0., 1., 1., 1., 0., 1., 1., 1., 1.,\n",
       "       0., 0., 1., 0., 1., 1., 0., 0., 0., 1., 1., 0., 1., 0., 1., 0., 0.,\n",
       "       1., 0., 0., 1., 1., 0., 1., 1., 0., 1., 0., 1., 0., 0., 1., 0., 0.,\n",
       "       1.])"
      ]
     },
     "execution_count": 50,
     "metadata": {},
     "output_type": "execute_result"
    }
   ],
   "source": [
    "individuo_final"
   ]
  },
  {
   "cell_type": "markdown",
   "metadata": {},
   "source": [
    "## Ajustar vetores para selecionar os atributos"
   ]
  },
  {
   "cell_type": "code",
   "execution_count": 48,
   "metadata": {},
   "outputs": [],
   "source": [
    "def evaluate(individuo):\n",
    "    \n",
    "    ## selecionar as features de acordo com o cromossomo: 1-> feature entra\n",
    "    col = np.where(individuo==1)\n",
    "    selected_features_evolutivo = features_evolutivo[:,col[0]]\n",
    "    selected_features_test = features_test[:,col[0]]\n",
    "    \n",
    "    ## classificacao\n",
    "    clf = mlp()\n",
    "    clf.fit(selected_features_evolutivo,labels_evolutivo)\n",
    "    pred = clf.predict(selected_features_test)\n",
    "    k = kappa(labels_test,pred)\n",
    "    \n",
    "    return k"
   ]
  },
  {
   "cell_type": "code",
   "execution_count": 49,
   "metadata": {},
   "outputs": [
    {
     "data": {
      "text/plain": [
       "0.9785096670440696"
      ]
     },
     "execution_count": 49,
     "metadata": {},
     "output_type": "execute_result"
    }
   ],
   "source": [
    "evaluate(individuo_final)"
   ]
  },
  {
   "cell_type": "code",
   "execution_count": null,
   "metadata": {},
   "outputs": [],
   "source": []
  },
  {
   "cell_type": "code",
   "execution_count": null,
   "metadata": {},
   "outputs": [],
   "source": []
  },
  {
   "cell_type": "code",
   "execution_count": null,
   "metadata": {},
   "outputs": [],
   "source": []
  },
  {
   "cell_type": "code",
   "execution_count": null,
   "metadata": {},
   "outputs": [],
   "source": []
  },
  {
   "cell_type": "code",
   "execution_count": null,
   "metadata": {},
   "outputs": [],
   "source": []
  }
 ],
 "metadata": {
  "kernelspec": {
   "display_name": "Python 3",
   "language": "python",
   "name": "python3"
  },
  "language_info": {
   "codemirror_mode": {
    "name": "ipython",
    "version": 3
   },
   "file_extension": ".py",
   "mimetype": "text/x-python",
   "name": "python",
   "nbconvert_exporter": "python",
   "pygments_lexer": "ipython3",
   "version": "3.8.3"
  }
 },
 "nbformat": 4,
 "nbformat_minor": 4
}
