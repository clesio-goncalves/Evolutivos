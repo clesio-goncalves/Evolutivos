{
 "cells": [
  {
   "cell_type": "markdown",
   "metadata": {},
   "source": [
    "# Aluno: Clésio de Araújo Gonçalves"
   ]
  },
  {
   "cell_type": "markdown",
   "metadata": {},
   "source": [
    "# Regras de negócio\n",
    "\n",
    "Esquema: Problema das 8 rainhas\n",
    "\n",
    "Representação: Permutação\n",
    "\n",
    "Recombinação: Cortar e completar os faltantes\n",
    "\n",
    "Probabilidade de recombinação: 100%\n",
    "\n",
    "Probabilidade de mutação: 80% (alta), pois a recombinação não gera indivíduos tão diferentes\n",
    "\n",
    "Seleção dos pais: 2 melhores dos 5 selecionados aleatoriamente\n",
    "\n",
    "Critério de sobrevivência: substituir o pior\n",
    "\n",
    "Tamanho da população: 100\n",
    "\n",
    "Número de descendentes: 2\n",
    "\n",
    "Inicialização: Aleatória\n",
    "\n",
    "Mutação: trocar 2 números de lugar\n",
    "\n",
    "Condição de finalização: encontra a solução ou faz 10.000 avaliações de aptidão"
   ]
  },
  {
   "cell_type": "markdown",
   "metadata": {},
   "source": [
    "# 1. Funções"
   ]
  },
  {
   "cell_type": "code",
   "execution_count": 1,
   "metadata": {},
   "outputs": [],
   "source": [
    "import numpy as np\n",
    "import pandas as pd\n",
    "from itertools import permutations\n",
    "from random import randint\n",
    "import warnings\n",
    "import matplotlib.pyplot as plt\n",
    "%matplotlib inline\n",
    "warnings.filterwarnings('ignore')"
   ]
  },
  {
   "cell_type": "code",
   "execution_count": 2,
   "metadata": {},
   "outputs": [],
   "source": [
    "n = 8  # Numero de rainhas\n",
    "qnt_avaliacoes_aptidao = 0\n",
    "populacao = pd.DataFrame(columns = ['linhas_xadrez', 'tabuleiros', 'qnt_xeque_mate'])\n",
    "dois_melhores_pais, recombinacao, mutacao = pd.DataFrame(), pd.DataFrame(), pd.DataFrame()\n",
    "solucao_encontrada = False"
   ]
  },
  {
   "cell_type": "code",
   "execution_count": 3,
   "metadata": {},
   "outputs": [],
   "source": [
    "# Pega aleatoriamente 100 tabuleiros para a população inicial\n",
    "def gera_populacao_inicial():\n",
    "\n",
    "    # Gera as permutações com todas as possibilidades da matriz\n",
    "    # A permutação atende as restrições em linhas e colunas (exceto diagonais)\n",
    "    array = range(n)\n",
    "    linhas_xadrez = list(permutations(array))\n",
    "    \n",
    "    dados = []\n",
    "\n",
    "    for i in range(0,100):\n",
    "        indice = randint(0, len(linhas_xadrez) - 1)\n",
    "        dados.append(linhas_xadrez[indice])\n",
    "\n",
    "    return dados"
   ]
  },
  {
   "cell_type": "code",
   "execution_count": 4,
   "metadata": {},
   "outputs": [],
   "source": [
    "# Cria todos os tabuleiros de xadrez com as rainhas dispostas\n",
    "def cria_tabuleiros(linhas_xadrez):\n",
    "\n",
    "    # Variáveis locais\n",
    "    tabuleiros = []\n",
    "    indice_linha, indice_coluna = 0, 0\n",
    "\n",
    "    # Gera a matriz xadrez\n",
    "    matriz_xadrez = np.zeros((n, n), dtype=np.int32)\n",
    "\n",
    "    for linha_xadrez in linhas_xadrez:\n",
    "        for posicao_linha in linha_xadrez:\n",
    "            matriz_xadrez[posicao_linha, indice_coluna] = 1\n",
    "            indice_coluna += 1\n",
    "        indice_coluna = 0\n",
    "        tabuleiros.append(matriz_xadrez)\n",
    "        matriz_xadrez = np.zeros((n, n), dtype=int)\n",
    "\n",
    "    return tabuleiros"
   ]
  },
  {
   "cell_type": "code",
   "execution_count": 5,
   "metadata": {},
   "outputs": [],
   "source": [
    "# Verifica a aptidão de uma lista de tabuleiros\n",
    "def calcula_aptidao_tabuleiro(tabuleiros):\n",
    "\n",
    "    # Variavel global\n",
    "    global qnt_avaliacoes_aptidao\n",
    "    \n",
    "    # Variáveis locais\n",
    "    qnt_xeque_mate, indice_linha, indice_coluna = 0, 0, 0\n",
    "    lista_qnt_xeque_mate = []\n",
    "\n",
    "    for tabuleiro in tabuleiros:\n",
    "        for linha in tabuleiro:\n",
    "            for elemento in linha:\n",
    "                if (elemento == 1):  # Só verifica as posições do tabuleiro que possuem rainha\n",
    "                    diagonal_principal = np.diagonal(tabuleiro, indice_coluna - indice_linha)\n",
    "                    diagonal_secundaria = np.fliplr(tabuleiro).diagonal(((n - 1) - indice_coluna) - indice_linha)\n",
    "\n",
    "                    # Se a rainha faz xeque mate na diagonal principal ou secundária\n",
    "                    if sum(diagonal_principal) > 1 or sum(diagonal_secundaria) > 1:\n",
    "                        qnt_xeque_mate += 1\n",
    "                # Continua varrendo cada elemento da mesma linha\n",
    "                indice_coluna += 1\n",
    "            # Apos todos os elementos da linha, passa para a proxima linha\n",
    "            indice_linha += 1\n",
    "            indice_coluna = 0\n",
    "        # Apos todas as linhas do tabuleiro, reinicia variavel para o proximo tabuleiro\n",
    "        indice_linha = 0\n",
    "\n",
    "        lista_qnt_xeque_mate.append(qnt_xeque_mate)\n",
    "        qnt_xeque_mate = 0\n",
    "        qnt_avaliacoes_aptidao += 1 # qnt avaliações aptidão\n",
    "\n",
    "    return lista_qnt_xeque_mate"
   ]
  },
  {
   "cell_type": "code",
   "execution_count": 6,
   "metadata": {},
   "outputs": [],
   "source": [
    "# Seleção dos pais: 2 melhores dos 5 selecionados aleatoriamente\n",
    "def seleciona_dois_melhores_entre_cinco_pais(populacao):\n",
    "    lista_cinco_indices = []\n",
    "\n",
    "    # Seleciona aleatoriamente cinco pais\n",
    "    for i in range(0, 5):\n",
    "        indice = randint(0, len(populacao) - 1)\n",
    "        lista_cinco_indices.append(indice)\n",
    "\n",
    "    return populacao.iloc[lista_cinco_indices].sort_values(by = ['qnt_xeque_mate']).head(2)"
   ]
  },
  {
   "cell_type": "code",
   "execution_count": 7,
   "metadata": {},
   "outputs": [],
   "source": [
    "# Recominação (crossover)\n",
    "def recombinacao_dois_melhores_pais(dois_melhores_pais):\n",
    "    \n",
    "    linhas_xadrez = list(dois_melhores_pais['linhas_xadrez'])\n",
    "\n",
    "    # crossover aleatório entre o indice 1 e 6 (não corta em 0 ou 7)\n",
    "    corte = randint(1, (n - 2))\n",
    "    \n",
    "    parte1_pai1 = linhas_xadrez[0][:corte]\n",
    "    parte2_pai1 = linhas_xadrez[0][corte:]\n",
    "    \n",
    "    parte1_pai2 = linhas_xadrez[1][:corte]\n",
    "    parte2_pai2 = linhas_xadrez[1][corte:]\n",
    "    \n",
    "    # Add a parte 1 ao filho\n",
    "    filho1 = list(parte1_pai1)\n",
    "    filho2 = list(parte1_pai2)\n",
    "    \n",
    "    # Add a parte2 ao filho, desde que a parte2 não esteja presente na parte 1\n",
    "    filho1 = filho1 + [i for i in parte2_pai2 if i not in filho1]\n",
    "    filho2 = filho2 + [i for i in parte2_pai1 if i not in filho2]\n",
    "    \n",
    "    # Add ao filho os elementos restantes\n",
    "    filho1 = filho1 + [i for i in range(0, n) if i not in filho1]\n",
    "    filho2 = filho2 + [i for i in range(0, n) if i not in filho2]\n",
    "    \n",
    "    return filho1, filho2"
   ]
  },
  {
   "cell_type": "code",
   "execution_count": 8,
   "metadata": {},
   "outputs": [],
   "source": [
    "def mutacao_dois_filhos(dois_filhos_recombinados):\n",
    "    \n",
    "    linhas_xadrez = dois_filhos_recombinados['linhas_xadrez']\n",
    "    \n",
    "    # Variavel global\n",
    "    global qnt_avaliacoes_aptidao\n",
    "    \n",
    "    # mutação aleatória nos dois filhos (random entre 0 e 2)\n",
    "    for i in range(0, 2):\n",
    "        \n",
    "        # Controle de 80% da mutação em cada filho\n",
    "        controle_mutacao = randint(0, 4)\n",
    "        \n",
    "        # Se o controle de mutação for diferente de 4, então ocorre mutação\n",
    "        if controle_mutacao != 4:\n",
    "            indice1 = randint(0, (n - 1))\n",
    "            indice2 = randint(0, (n - 1))\n",
    "            linhas_xadrez[i] = list(linhas_xadrez[i])\n",
    "\n",
    "            temp = linhas_xadrez[i][indice1]\n",
    "            linhas_xadrez[i][indice1] = linhas_xadrez[i][indice2]\n",
    "            linhas_xadrez[i][indice2] = temp\n",
    "        else:\n",
    "            # Mesmo que não ocorra mutação, irá verificar a aptidão de um tabuleiro que já foi verificado\n",
    "            # Então decrementa a qnt_avaliacoes_aptidao em 1\n",
    "            qnt_avaliacoes_aptidao -= 1\n",
    "            \n",
    "    return linhas_xadrez"
   ]
  },
  {
   "cell_type": "code",
   "execution_count": 9,
   "metadata": {},
   "outputs": [],
   "source": [
    "def substituicao_populacao(dataset):\n",
    "    \n",
    "    # dataset população\n",
    "    global populacao\n",
    "    \n",
    "    for i in range (0, 2):\n",
    "        populacao_tail = populacao.sort_values(by = ['qnt_xeque_mate']).tail(1)\n",
    "        dataset_head = dataset.sort_values(by = ['qnt_xeque_mate']).head(1)\n",
    "\n",
    "        # Testa se maior qnt_xeque da população é menor que a menor que a qnt_xeque do dataset\n",
    "        if (populacao_tail.qnt_xeque_mate.values[0] > dataset_head.qnt_xeque_mate.values[0]):\n",
    "            populacao.linhas_xadrez.iloc[populacao_tail.index[0]] = dataset_head.linhas_xadrez.values[0]\n",
    "            populacao.tabuleiros.iloc[populacao_tail.index[0]] = dataset_head.tabuleiros.values[0]\n",
    "            populacao.qnt_xeque_mate.iloc[populacao_tail.index[0]] = dataset_head.qnt_xeque_mate.values[0]\n",
    "        \n",
    "        dataset.drop(dataset_head.index[0], inplace=True)"
   ]
  },
  {
   "cell_type": "markdown",
   "metadata": {},
   "source": [
    "# 2. Inicialização da população"
   ]
  },
  {
   "cell_type": "code",
   "execution_count": 10,
   "metadata": {},
   "outputs": [],
   "source": [
    "populacao['linhas_xadrez'] = gera_populacao_inicial()"
   ]
  },
  {
   "cell_type": "code",
   "execution_count": 11,
   "metadata": {},
   "outputs": [],
   "source": [
    "populacao['tabuleiros'] = cria_tabuleiros(populacao['linhas_xadrez'])"
   ]
  },
  {
   "cell_type": "code",
   "execution_count": 12,
   "metadata": {},
   "outputs": [],
   "source": [
    "populacao['qnt_xeque_mate'] = calcula_aptidao_tabuleiro(populacao['tabuleiros'])"
   ]
  },
  {
   "cell_type": "code",
   "execution_count": 13,
   "metadata": {},
   "outputs": [
    {
     "data": {
      "text/html": [
       "<div>\n",
       "<style scoped>\n",
       "    .dataframe tbody tr th:only-of-type {\n",
       "        vertical-align: middle;\n",
       "    }\n",
       "\n",
       "    .dataframe tbody tr th {\n",
       "        vertical-align: top;\n",
       "    }\n",
       "\n",
       "    .dataframe thead th {\n",
       "        text-align: right;\n",
       "    }\n",
       "</style>\n",
       "<table border=\"1\" class=\"dataframe\">\n",
       "  <thead>\n",
       "    <tr style=\"text-align: right;\">\n",
       "      <th></th>\n",
       "      <th>linhas_xadrez</th>\n",
       "      <th>tabuleiros</th>\n",
       "      <th>qnt_xeque_mate</th>\n",
       "    </tr>\n",
       "  </thead>\n",
       "  <tbody>\n",
       "    <tr>\n",
       "      <th>0</th>\n",
       "      <td>(2, 6, 1, 4, 7, 0, 3, 5)</td>\n",
       "      <td>[[0, 0, 0, 0, 0, 1, 0, 0], [0, 0, 1, 0, 0, 0, ...</td>\n",
       "      <td>2</td>\n",
       "    </tr>\n",
       "    <tr>\n",
       "      <th>1</th>\n",
       "      <td>(7, 1, 3, 6, 5, 4, 2, 0)</td>\n",
       "      <td>[[0, 0, 0, 0, 0, 0, 0, 1], [0, 1, 0, 0, 0, 0, ...</td>\n",
       "      <td>6</td>\n",
       "    </tr>\n",
       "    <tr>\n",
       "      <th>2</th>\n",
       "      <td>(4, 7, 1, 5, 3, 2, 6, 0)</td>\n",
       "      <td>[[0, 0, 0, 0, 0, 0, 0, 1], [0, 0, 1, 0, 0, 0, ...</td>\n",
       "      <td>6</td>\n",
       "    </tr>\n",
       "    <tr>\n",
       "      <th>3</th>\n",
       "      <td>(0, 2, 6, 3, 1, 4, 5, 7)</td>\n",
       "      <td>[[1, 0, 0, 0, 0, 0, 0, 0], [0, 0, 0, 0, 1, 0, ...</td>\n",
       "      <td>5</td>\n",
       "    </tr>\n",
       "    <tr>\n",
       "      <th>4</th>\n",
       "      <td>(7, 2, 5, 1, 6, 3, 0, 4)</td>\n",
       "      <td>[[0, 0, 0, 0, 0, 0, 1, 0], [0, 0, 0, 1, 0, 0, ...</td>\n",
       "      <td>4</td>\n",
       "    </tr>\n",
       "    <tr>\n",
       "      <th>...</th>\n",
       "      <td>...</td>\n",
       "      <td>...</td>\n",
       "      <td>...</td>\n",
       "    </tr>\n",
       "    <tr>\n",
       "      <th>95</th>\n",
       "      <td>(4, 1, 5, 2, 3, 0, 7, 6)</td>\n",
       "      <td>[[0, 0, 0, 0, 0, 1, 0, 0], [0, 1, 0, 0, 0, 0, ...</td>\n",
       "      <td>6</td>\n",
       "    </tr>\n",
       "    <tr>\n",
       "      <th>96</th>\n",
       "      <td>(7, 0, 3, 4, 1, 2, 6, 5)</td>\n",
       "      <td>[[0, 1, 0, 0, 0, 0, 0, 0], [0, 0, 0, 0, 1, 0, ...</td>\n",
       "      <td>7</td>\n",
       "    </tr>\n",
       "    <tr>\n",
       "      <th>97</th>\n",
       "      <td>(1, 0, 4, 5, 2, 6, 7, 3)</td>\n",
       "      <td>[[0, 1, 0, 0, 0, 0, 0, 0], [1, 0, 0, 0, 0, 0, ...</td>\n",
       "      <td>7</td>\n",
       "    </tr>\n",
       "    <tr>\n",
       "      <th>98</th>\n",
       "      <td>(7, 1, 2, 3, 0, 5, 4, 6)</td>\n",
       "      <td>[[0, 0, 0, 0, 1, 0, 0, 0], [0, 1, 0, 0, 0, 0, ...</td>\n",
       "      <td>6</td>\n",
       "    </tr>\n",
       "    <tr>\n",
       "      <th>99</th>\n",
       "      <td>(6, 7, 4, 0, 1, 3, 5, 2)</td>\n",
       "      <td>[[0, 0, 0, 1, 0, 0, 0, 0], [0, 0, 0, 0, 1, 0, ...</td>\n",
       "      <td>6</td>\n",
       "    </tr>\n",
       "  </tbody>\n",
       "</table>\n",
       "<p>100 rows × 3 columns</p>\n",
       "</div>"
      ],
      "text/plain": [
       "               linhas_xadrez  \\\n",
       "0   (2, 6, 1, 4, 7, 0, 3, 5)   \n",
       "1   (7, 1, 3, 6, 5, 4, 2, 0)   \n",
       "2   (4, 7, 1, 5, 3, 2, 6, 0)   \n",
       "3   (0, 2, 6, 3, 1, 4, 5, 7)   \n",
       "4   (7, 2, 5, 1, 6, 3, 0, 4)   \n",
       "..                       ...   \n",
       "95  (4, 1, 5, 2, 3, 0, 7, 6)   \n",
       "96  (7, 0, 3, 4, 1, 2, 6, 5)   \n",
       "97  (1, 0, 4, 5, 2, 6, 7, 3)   \n",
       "98  (7, 1, 2, 3, 0, 5, 4, 6)   \n",
       "99  (6, 7, 4, 0, 1, 3, 5, 2)   \n",
       "\n",
       "                                           tabuleiros  qnt_xeque_mate  \n",
       "0   [[0, 0, 0, 0, 0, 1, 0, 0], [0, 0, 1, 0, 0, 0, ...               2  \n",
       "1   [[0, 0, 0, 0, 0, 0, 0, 1], [0, 1, 0, 0, 0, 0, ...               6  \n",
       "2   [[0, 0, 0, 0, 0, 0, 0, 1], [0, 0, 1, 0, 0, 0, ...               6  \n",
       "3   [[1, 0, 0, 0, 0, 0, 0, 0], [0, 0, 0, 0, 1, 0, ...               5  \n",
       "4   [[0, 0, 0, 0, 0, 0, 1, 0], [0, 0, 0, 1, 0, 0, ...               4  \n",
       "..                                                ...             ...  \n",
       "95  [[0, 0, 0, 0, 0, 1, 0, 0], [0, 1, 0, 0, 0, 0, ...               6  \n",
       "96  [[0, 1, 0, 0, 0, 0, 0, 0], [0, 0, 0, 0, 1, 0, ...               7  \n",
       "97  [[0, 1, 0, 0, 0, 0, 0, 0], [1, 0, 0, 0, 0, 0, ...               7  \n",
       "98  [[0, 0, 0, 0, 1, 0, 0, 0], [0, 1, 0, 0, 0, 0, ...               6  \n",
       "99  [[0, 0, 0, 1, 0, 0, 0, 0], [0, 0, 0, 0, 1, 0, ...               6  \n",
       "\n",
       "[100 rows x 3 columns]"
      ]
     },
     "execution_count": 13,
     "metadata": {},
     "output_type": "execute_result"
    }
   ],
   "source": [
    "populacao"
   ]
  },
  {
   "cell_type": "code",
   "execution_count": 14,
   "metadata": {},
   "outputs": [],
   "source": [
    "# Verifica se a solução foi encontrada na inicialização da população\n",
    "if len(populacao[populacao['qnt_xeque_mate'] == 0]) > 0:\n",
    "    solucao_encontrada = True\n",
    "    \n",
    "    print(\"Solução encontrada na inicialização\\n\\n\")\n",
    "    tabuleiro = populacao.sort_values(by = ['qnt_xeque_mate']).tabuleiros.head(1)\n",
    "    print(list(tabuleiro)[0])"
   ]
  },
  {
   "cell_type": "markdown",
   "metadata": {},
   "source": [
    "# 3. Algoritmo evolucionário"
   ]
  },
  {
   "cell_type": "code",
   "execution_count": 15,
   "metadata": {},
   "outputs": [
    {
     "name": "stdout",
     "output_type": "stream",
     "text": [
      "Solução encontrada na 390ª avaliação de aptidão\n"
     ]
    }
   ],
   "source": [
    "while (solucao_encontrada == False) and (qnt_avaliacoes_aptidao <= 10000):\n",
    "    \n",
    "    # 3.1 Seleção dos dois melhores pais\n",
    "    dois_melhores_pais = seleciona_dois_melhores_entre_cinco_pais(populacao)\n",
    "    \n",
    "    # 3.2 Recombinação dos dois melhores pais (100%)\n",
    "    recombinacao['linhas_xadrez'] = recombinacao_dois_melhores_pais(dois_melhores_pais)\n",
    "    recombinacao['tabuleiros'] = cria_tabuleiros(recombinacao['linhas_xadrez'])\n",
    "    recombinacao['qnt_xeque_mate'] = calcula_aptidao_tabuleiro(recombinacao['tabuleiros'])\n",
    "    \n",
    "    # 3.3 Mutação (80%) - em cada um dos filhos\n",
    "    mutacao['linhas_xadrez'] = mutacao_dois_filhos(recombinacao)\n",
    "    mutacao['tabuleiros'] = cria_tabuleiros(mutacao['linhas_xadrez'])\n",
    "    mutacao['qnt_xeque_mate'] = calcula_aptidao_tabuleiro(mutacao['tabuleiros'])\n",
    "    \n",
    "    # 3.4 Substitui o pior da população pelo melhor da mutacao/recombinação\n",
    "    substituicao_populacao(mutacao)\n",
    "    \n",
    "    # Verifica se a solução foi encontrada\n",
    "    if len(populacao[populacao['qnt_xeque_mate'] == 0]) > 0:\n",
    "        solucao_encontrada = True\n",
    "        print(\"Solução encontrada na %sª avaliação de aptidão\" %(qnt_avaliacoes_aptidao))\n",
    "\n",
    "if ((solucao_encontrada == False) and (qnt_avaliacoes_aptidao > 10000)):\n",
    "    print(\"Solução não encontrada após %s avaliações de aptidão\" %(qnt_avaliacoes_aptidao))"
   ]
  },
  {
   "cell_type": "code",
   "execution_count": 16,
   "metadata": {},
   "outputs": [
    {
     "data": {
      "text/html": [
       "<div>\n",
       "<style scoped>\n",
       "    .dataframe tbody tr th:only-of-type {\n",
       "        vertical-align: middle;\n",
       "    }\n",
       "\n",
       "    .dataframe tbody tr th {\n",
       "        vertical-align: top;\n",
       "    }\n",
       "\n",
       "    .dataframe thead th {\n",
       "        text-align: right;\n",
       "    }\n",
       "</style>\n",
       "<table border=\"1\" class=\"dataframe\">\n",
       "  <thead>\n",
       "    <tr style=\"text-align: right;\">\n",
       "      <th></th>\n",
       "      <th>linhas_xadrez</th>\n",
       "      <th>tabuleiros</th>\n",
       "      <th>qnt_xeque_mate</th>\n",
       "    </tr>\n",
       "  </thead>\n",
       "  <tbody>\n",
       "    <tr>\n",
       "      <th>39</th>\n",
       "      <td>[2, 5, 7, 1, 3, 0, 6, 4]</td>\n",
       "      <td>[[0, 0, 0, 0, 0, 1, 0, 0], [0, 0, 0, 1, 0, 0, ...</td>\n",
       "      <td>0</td>\n",
       "    </tr>\n",
       "    <tr>\n",
       "      <th>0</th>\n",
       "      <td>(2, 6, 1, 4, 7, 0, 3, 5)</td>\n",
       "      <td>[[0, 0, 0, 0, 0, 1, 0, 0], [0, 0, 1, 0, 0, 0, ...</td>\n",
       "      <td>2</td>\n",
       "    </tr>\n",
       "    <tr>\n",
       "      <th>91</th>\n",
       "      <td>[7, 4, 3, 0, 6, 1, 5, 2]</td>\n",
       "      <td>[[0, 0, 0, 1, 0, 0, 0, 0], [0, 0, 0, 0, 0, 1, ...</td>\n",
       "      <td>2</td>\n",
       "    </tr>\n",
       "    <tr>\n",
       "      <th>56</th>\n",
       "      <td>[2, 6, 1, 4, 7, 0, 3, 5]</td>\n",
       "      <td>[[0, 0, 0, 0, 0, 1, 0, 0], [0, 0, 1, 0, 0, 0, ...</td>\n",
       "      <td>2</td>\n",
       "    </tr>\n",
       "    <tr>\n",
       "      <th>99</th>\n",
       "      <td>[7, 1, 6, 4, 2, 0, 5, 3]</td>\n",
       "      <td>[[0, 0, 0, 0, 0, 1, 0, 0], [0, 1, 0, 0, 0, 0, ...</td>\n",
       "      <td>2</td>\n",
       "    </tr>\n",
       "    <tr>\n",
       "      <th>...</th>\n",
       "      <td>...</td>\n",
       "      <td>...</td>\n",
       "      <td>...</td>\n",
       "    </tr>\n",
       "    <tr>\n",
       "      <th>64</th>\n",
       "      <td>(6, 0, 7, 5, 1, 3, 2, 4)</td>\n",
       "      <td>[[0, 1, 0, 0, 0, 0, 0, 0], [0, 0, 0, 0, 1, 0, ...</td>\n",
       "      <td>5</td>\n",
       "    </tr>\n",
       "    <tr>\n",
       "      <th>65</th>\n",
       "      <td>[6, 5, 0, 3, 2, 4, 7, 1]</td>\n",
       "      <td>[[0, 0, 1, 0, 0, 0, 0, 0], [0, 0, 0, 0, 0, 0, ...</td>\n",
       "      <td>5</td>\n",
       "    </tr>\n",
       "    <tr>\n",
       "      <th>24</th>\n",
       "      <td>[2, 7, 1, 4, 6, 0, 5, 3]</td>\n",
       "      <td>[[0, 0, 0, 0, 0, 1, 0, 0], [0, 0, 1, 0, 0, 0, ...</td>\n",
       "      <td>5</td>\n",
       "    </tr>\n",
       "    <tr>\n",
       "      <th>70</th>\n",
       "      <td>(4, 2, 7, 3, 0, 6, 5, 1)</td>\n",
       "      <td>[[0, 0, 0, 0, 1, 0, 0, 0], [0, 0, 0, 0, 0, 0, ...</td>\n",
       "      <td>5</td>\n",
       "    </tr>\n",
       "    <tr>\n",
       "      <th>5</th>\n",
       "      <td>[6, 0, 2, 1, 4, 5, 7, 3]</td>\n",
       "      <td>[[0, 1, 0, 0, 0, 0, 0, 0], [0, 0, 0, 1, 0, 0, ...</td>\n",
       "      <td>5</td>\n",
       "    </tr>\n",
       "  </tbody>\n",
       "</table>\n",
       "<p>100 rows × 3 columns</p>\n",
       "</div>"
      ],
      "text/plain": [
       "               linhas_xadrez  \\\n",
       "39  [2, 5, 7, 1, 3, 0, 6, 4]   \n",
       "0   (2, 6, 1, 4, 7, 0, 3, 5)   \n",
       "91  [7, 4, 3, 0, 6, 1, 5, 2]   \n",
       "56  [2, 6, 1, 4, 7, 0, 3, 5]   \n",
       "99  [7, 1, 6, 4, 2, 0, 5, 3]   \n",
       "..                       ...   \n",
       "64  (6, 0, 7, 5, 1, 3, 2, 4)   \n",
       "65  [6, 5, 0, 3, 2, 4, 7, 1]   \n",
       "24  [2, 7, 1, 4, 6, 0, 5, 3]   \n",
       "70  (4, 2, 7, 3, 0, 6, 5, 1)   \n",
       "5   [6, 0, 2, 1, 4, 5, 7, 3]   \n",
       "\n",
       "                                           tabuleiros  qnt_xeque_mate  \n",
       "39  [[0, 0, 0, 0, 0, 1, 0, 0], [0, 0, 0, 1, 0, 0, ...               0  \n",
       "0   [[0, 0, 0, 0, 0, 1, 0, 0], [0, 0, 1, 0, 0, 0, ...               2  \n",
       "91  [[0, 0, 0, 1, 0, 0, 0, 0], [0, 0, 0, 0, 0, 1, ...               2  \n",
       "56  [[0, 0, 0, 0, 0, 1, 0, 0], [0, 0, 1, 0, 0, 0, ...               2  \n",
       "99  [[0, 0, 0, 0, 0, 1, 0, 0], [0, 1, 0, 0, 0, 0, ...               2  \n",
       "..                                                ...             ...  \n",
       "64  [[0, 1, 0, 0, 0, 0, 0, 0], [0, 0, 0, 0, 1, 0, ...               5  \n",
       "65  [[0, 0, 1, 0, 0, 0, 0, 0], [0, 0, 0, 0, 0, 0, ...               5  \n",
       "24  [[0, 0, 0, 0, 0, 1, 0, 0], [0, 0, 1, 0, 0, 0, ...               5  \n",
       "70  [[0, 0, 0, 0, 1, 0, 0, 0], [0, 0, 0, 0, 0, 0, ...               5  \n",
       "5   [[0, 1, 0, 0, 0, 0, 0, 0], [0, 0, 0, 1, 0, 0, ...               5  \n",
       "\n",
       "[100 rows x 3 columns]"
      ]
     },
     "execution_count": 16,
     "metadata": {},
     "output_type": "execute_result"
    }
   ],
   "source": [
    "populacao.sort_values(by = ['qnt_xeque_mate'])"
   ]
  },
  {
   "cell_type": "code",
   "execution_count": 17,
   "metadata": {},
   "outputs": [
    {
     "name": "stdout",
     "output_type": "stream",
     "text": [
      "[[0 0 0 0 0 1 0 0]\n",
      " [0 0 0 1 0 0 0 0]\n",
      " [1 0 0 0 0 0 0 0]\n",
      " [0 0 0 0 1 0 0 0]\n",
      " [0 0 0 0 0 0 0 1]\n",
      " [0 1 0 0 0 0 0 0]\n",
      " [0 0 0 0 0 0 1 0]\n",
      " [0 0 1 0 0 0 0 0]]\n"
     ]
    }
   ],
   "source": [
    "tabuleiro = populacao.sort_values(by = ['qnt_xeque_mate']).tabuleiros.head(1)\n",
    "lista = list(tabuleiro)[0]\n",
    "print(lista)"
   ]
  },
  {
   "cell_type": "code",
   "execution_count": 21,
   "metadata": {},
   "outputs": [
    {
     "data": {
      "image/png": "[encoded data removed]",
      "text/plain": [
       "<Figure size 288x288 with 1 Axes>"
      ]
     },
     "metadata": {
      "needs_background": "light"
     },
     "output_type": "display_data"
    }
   ],
   "source": [
    "plt.matshow(lista)\n",
    "\n",
    "ax = plt.gca();\n",
    "\n",
    "ax.set_xticks(np.arange(-.5, n, 1), minor=True)\n",
    "ax.set_yticks(np.arange(-.5, n, 1), minor=True)\n",
    "\n",
    "ax.grid(which='minor', color='k', linestyle='-', linewidth=2)"
   ]
  }
 ],
 "metadata": {
  "kernelspec": {
   "display_name": "Python 3",
   "language": "python",
   "name": "python3"
  },
  "language_info": {
   "codemirror_mode": {
    "name": "ipython",
    "version": 3
   },
   "file_extension": ".py",
   "mimetype": "text/x-python",
   "name": "python",
   "nbconvert_exporter": "python",
   "pygments_lexer": "ipython3",
   "version": "3.8.3"
  }
 },
 "nbformat": 4,
 "nbformat_minor": 4
}
